{
 "cells": [
  {
   "cell_type": "markdown",
   "id": "98ee27cd",
   "metadata": {},
   "source": [
    "## Context\n",
    "This is image data of Natural Scenes around the world.\n",
    "\n",
    "## Data Description\n",
    "This Data contains around 25k images of size 150x150 distributed under 6 categories.\n",
    "* 1. 'buildings' -> 0\n",
    "* 2. 'forest' -> 1\n",
    "* 3. 'glacier' -> 2\n",
    "* 4. 'mountain' -> 3\n",
    "* 5. 'sea' -> 4\n",
    "* 6. 'street' -> 5 \n",
    "\n",
    "**The Train, Test and Prediction data is separated in each zip files. There are around 14k images in Train, 3k in Test and 7k in Prediction.**\n",
    "\n",
    "## Import necessary Libraries"
   ]
  },
  {
   "cell_type": "code",
   "execution_count": 2,
   "id": "0c07264a",
   "metadata": {},
   "outputs": [],
   "source": [
    "import numpy as np\n",
    "import pandas as pd\n",
    "import os\n",
    "import torch\n",
    "import torchvision\n",
    "import numpy as np\n",
    "import matplotlib.pyplot as plt\n",
    "import torch.nn as nn\n",
    "import torch.nn.functional as F\n",
    "from torchvision.transforms import ToTensor\n",
    "import torchvision.transforms as tt\n",
    "from torchvision.utils import make_grid\n",
    "from torch.utils.data.dataloader import DataLoader\n",
    "from torchvision.datasets import ImageFolder\n",
    "from torch.utils.data import random_split\n",
    "%matplotlib inline"
   ]
  },
  {
   "cell_type": "code",
   "execution_count": null,
   "id": "5cbf397d",
   "metadata": {},
   "outputs": [],
   "source": []
  }
 ],
 "metadata": {
  "kernelspec": {
   "display_name": "intel_image",
   "language": "python",
   "name": "intel_image"
  },
  "language_info": {
   "codemirror_mode": {
    "name": "ipython",
    "version": 3
   },
   "file_extension": ".py",
   "mimetype": "text/x-python",
   "name": "python",
   "nbconvert_exporter": "python",
   "pygments_lexer": "ipython3",
   "version": "3.8.16"
  }
 },
 "nbformat": 4,
 "nbformat_minor": 5
}
